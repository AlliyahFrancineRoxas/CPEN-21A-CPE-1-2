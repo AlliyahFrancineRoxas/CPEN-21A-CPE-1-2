{
  "nbformat": 4,
  "nbformat_minor": 0,
  "metadata": {
    "colab": {
      "name": "Operations and Expressions.ipynb",
      "provenance": [],
      "authorship_tag": "ABX9TyPQOuTOr3WaXxsqyilPI8KZ",
      "include_colab_link": true
    },
    "kernelspec": {
      "name": "python3",
      "display_name": "Python 3"
    },
    "language_info": {
      "name": "python"
    }
  },
  "cells": [
    {
      "cell_type": "markdown",
      "metadata": {
        "id": "view-in-github",
        "colab_type": "text"
      },
      "source": [
        "<a href=\"https://colab.research.google.com/github/AlliyahFrancineRoxas/CPEN-21A-CPE-1-2/blob/main/Operations_and_Expressions.ipynb\" target=\"_parent\"><img src=\"https://colab.research.google.com/assets/colab-badge.svg\" alt=\"Open In Colab\"/></a>"
      ]
    },
    {
      "cell_type": "code",
      "metadata": {
        "id": "Y8RQYJ2-y8vu"
      },
      "source": [
        ""
      ],
      "execution_count": null,
      "outputs": []
    },
    {
      "cell_type": "markdown",
      "metadata": {
        "id": "kEj9Fu460Xmh"
      },
      "source": [
        "##Boolean Operators"
      ]
    },
    {
      "cell_type": "code",
      "metadata": {
        "colab": {
          "base_uri": "https://localhost:8080/"
        },
        "id": "_t12XunU0cP4",
        "outputId": "2343015e-e061-4147-a4a9-34e5bc2f4b30"
      },
      "source": [
        "#Booleans represents one of two values: True or False\n",
        "print(11>10)\n",
        "print(11==10)\n",
        "print(10>11)"
      ],
      "execution_count": 3,
      "outputs": [
        {
          "output_type": "stream",
          "name": "stdout",
          "text": [
            "True\n",
            "False\n",
            "False\n"
          ]
        }
      ]
    },
    {
      "cell_type": "code",
      "metadata": {
        "colab": {
          "base_uri": "https://localhost:8080/"
        },
        "id": "plnvmsNp05p_",
        "outputId": "c44b0fdb-b88a-43f2-9eb7-a2471cee5dd8"
      },
      "source": [
        "a=10\n",
        "b=9\n",
        "\n",
        "print(a>b)\n",
        "print(a==a)\n",
        "print(b>a)\n",
        "print(b>a)"
      ],
      "execution_count": 8,
      "outputs": [
        {
          "output_type": "stream",
          "name": "stdout",
          "text": [
            "True\n",
            "True\n",
            "False\n",
            "False\n"
          ]
        }
      ]
    },
    {
      "cell_type": "code",
      "metadata": {
        "colab": {
          "base_uri": "https://localhost:8080/"
        },
        "id": "wcsbdPMm1tnu",
        "outputId": "e3b9f825-c50e-4d9a-9f6e-411960bc3876"
      },
      "source": [
        "print(bool(\"Hello\"))\n",
        "print(bool(15))"
      ],
      "execution_count": 10,
      "outputs": [
        {
          "output_type": "stream",
          "name": "stdout",
          "text": [
            "True\n",
            "True\n"
          ]
        }
      ]
    },
    {
      "cell_type": "code",
      "metadata": {
        "colab": {
          "base_uri": "https://localhost:8080/"
        },
        "id": "MBwicGGs1thN",
        "outputId": "0b3e0637-7460-4fe3-a6f0-c093f598c241"
      },
      "source": [
        "print(bool(False))\n",
        "print(bool(None))\n",
        "print(bool(0))\n",
        "print(bool(\"\"))     #allows you to evaluate and gives False return"
      ],
      "execution_count": 16,
      "outputs": [
        {
          "output_type": "stream",
          "name": "stdout",
          "text": [
            "False\n",
            "False\n",
            "False\n",
            "False\n"
          ]
        }
      ]
    },
    {
      "cell_type": "code",
      "metadata": {
        "colab": {
          "base_uri": "https://localhost:8080/"
        },
        "id": "Pc3hjVrS2Yuq",
        "outputId": "387f3ad6-fda1-499a-9d26-33a896a9b3d6"
      },
      "source": [
        "def myFunction():return True\n",
        "print(myFunction())\n",
        "\n"
      ],
      "execution_count": 17,
      "outputs": [
        {
          "output_type": "stream",
          "name": "stdout",
          "text": [
            "True\n"
          ]
        }
      ]
    },
    {
      "cell_type": "code",
      "metadata": {
        "colab": {
          "base_uri": "https://localhost:8080/"
        },
        "id": "SqyVE_dS3EY4",
        "outputId": "fa84ac05-03d8-4edb-9581-e4b9c69ac8bf"
      },
      "source": [
        "def myFunction():return True\n",
        "print(myFunction())\n",
        "\n",
        "if myFunction():\n",
        " print(\"YES\")\n",
        "else:\n",
        " print(\"NO\")"
      ],
      "execution_count": 28,
      "outputs": [
        {
          "output_type": "stream",
          "name": "stdout",
          "text": [
            "True\n",
            "YES\n"
          ]
        }
      ]
    },
    {
      "cell_type": "code",
      "metadata": {
        "id": "pxH0gafM4RzA"
      },
      "source": [
        ""
      ],
      "execution_count": null,
      "outputs": []
    },
    {
      "cell_type": "markdown",
      "metadata": {
        "id": "d93pgTwx4YDy"
      },
      "source": [
        "#You try"
      ]
    },
    {
      "cell_type": "code",
      "metadata": {
        "colab": {
          "base_uri": "https://localhost:8080/"
        },
        "id": "AqsUK0eg4a5B",
        "outputId": "60b24d2c-6214-47fa-a860-7897a5a57886"
      },
      "source": [
        "a=6\n",
        "b=7\n",
        "\n",
        "print(a==b)\n",
        "print(a!=a)"
      ],
      "execution_count": 29,
      "outputs": [
        {
          "output_type": "stream",
          "name": "stdout",
          "text": [
            "False\n",
            "False\n"
          ]
        }
      ]
    },
    {
      "cell_type": "code",
      "metadata": {
        "colab": {
          "base_uri": "https://localhost:8080/"
        },
        "id": "8lAKOxuE4x4J",
        "outputId": "c20db960-1f42-4de8-c1f1-58bb3bd5ba85"
      },
      "source": [
        "print(10+5)\n",
        "print(10-5)\n",
        "print(10*5)\n",
        "print(10/5) #division-quotient\n",
        "print(10%5) #modulo division\n",
        "print(10%3) #modulo division\n",
        "print(10//3) #floor division"
      ],
      "execution_count": 30,
      "outputs": [
        {
          "output_type": "stream",
          "name": "stdout",
          "text": [
            "15\n",
            "5\n",
            "50\n",
            "2.0\n",
            "0\n",
            "1\n",
            "3\n"
          ]
        }
      ]
    },
    {
      "cell_type": "code",
      "metadata": {
        "colab": {
          "base_uri": "https://localhost:8080/"
        },
        "id": "ZHHGSbhh5tDZ",
        "outputId": "b420a833-a967-4617-ddca-67d871ac3815"
      },
      "source": [
        "a=60 #0011 1100  0000 1111\n",
        "b=13 #0000 1101\n",
        "\n",
        "print(a&b)\n",
        "print(a|b)\n",
        "print(a^b)\n",
        "print(a<<2)\n",
        "print(a>>2)"
      ],
      "execution_count": 39,
      "outputs": [
        {
          "output_type": "stream",
          "name": "stdout",
          "text": [
            "12\n",
            "61\n",
            "49\n",
            "240\n",
            "15\n"
          ]
        }
      ]
    },
    {
      "cell_type": "code",
      "metadata": {
        "colab": {
          "base_uri": "https://localhost:8080/"
        },
        "id": "AhF0KO1x-w4d",
        "outputId": "ffaeaf12-62a7-4828-cd9c-834a28aafd81"
      },
      "source": [
        "x=6\n",
        "x+=3  #x=x+3\n",
        "print(x)\n",
        "\n",
        "x%=3\n",
        "print(x)"
      ],
      "execution_count": 41,
      "outputs": [
        {
          "output_type": "stream",
          "name": "stdout",
          "text": [
            "9\n",
            "0\n"
          ]
        }
      ]
    },
    {
      "cell_type": "code",
      "metadata": {
        "colab": {
          "base_uri": "https://localhost:8080/"
        },
        "id": "UhNaE-3H_e35",
        "outputId": "8b02f221-dddb-4397-d85c-07f0126bfef1"
      },
      "source": [
        "a=True\n",
        "b=False\n",
        "\n",
        "print (a and b)\n",
        "print (a or b)\n",
        "print (not(a and b))\n",
        "print (not(a and b)) #negation"
      ],
      "execution_count": 46,
      "outputs": [
        {
          "output_type": "stream",
          "name": "stdout",
          "text": [
            "False\n",
            "True\n",
            "True\n",
            "True\n"
          ]
        }
      ]
    },
    {
      "cell_type": "code",
      "metadata": {
        "colab": {
          "base_uri": "https://localhost:8080/"
        },
        "id": "E20Nx-jBALgL",
        "outputId": "bdcfdf7c-2af9-481a-bdc8-335a5dcc4514"
      },
      "source": [
        "print(a is b)\n",
        "print (a is not b)"
      ],
      "execution_count": 47,
      "outputs": [
        {
          "output_type": "stream",
          "name": "stdout",
          "text": [
            "False\n",
            "True\n"
          ]
        }
      ]
    },
    {
      "cell_type": "code",
      "metadata": {
        "id": "Ql74muQM9Oj6"
      },
      "source": [
        ""
      ],
      "execution_count": null,
      "outputs": []
    }
  ]
}