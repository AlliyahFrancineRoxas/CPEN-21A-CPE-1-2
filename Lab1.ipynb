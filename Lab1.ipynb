{
  "nbformat": 4,
  "nbformat_minor": 0,
  "metadata": {
    "colab": {
      "name": "Untitled1.ipynb",
      "provenance": [],
      "authorship_tag": "ABX9TyO6zhruVdd+EsryDfO6Khxj",
      "include_colab_link": true
    },
    "kernelspec": {
      "name": "python3",
      "display_name": "Python 3"
    },
    "language_info": {
      "name": "python"
    }
  },
  "cells": [
    {
      "cell_type": "markdown",
      "metadata": {
        "id": "view-in-github",
        "colab_type": "text"
      },
      "source": [
        "<a href=\"https://colab.research.google.com/github/AlliyahFrancineRoxas/CPEN-21A-CPE-1-2/blob/main/Lab1.ipynb\" target=\"_parent\"><img src=\"https://colab.research.google.com/assets/colab-badge.svg\" alt=\"Open In Colab\"/></a>"
      ]
    },
    {
      "cell_type": "code",
      "metadata": {
        "id": "GkCt8PdS7AMK"
      },
      "source": [
        ""
      ],
      "execution_count": null,
      "outputs": []
    },
    {
      "cell_type": "markdown",
      "metadata": {
        "id": "7LX5WRg77KnM"
      },
      "source": [
        "###LABORATORY 1\n"
      ]
    },
    {
      "cell_type": "code",
      "metadata": {
        "colab": {
          "base_uri": "https://localhost:8080/"
        },
        "id": "bsKTB9D_7OMI",
        "outputId": "fd479d41-e6bd-48ef-8a9b-500cbe67e338"
      },
      "source": [
        "a=b=c=\"Welcome to Python Programming\"\n",
        "\n",
        "print(a)"
      ],
      "execution_count": 2,
      "outputs": [
        {
          "output_type": "stream",
          "name": "stdout",
          "text": [
            "Welcome to Python Programming\n"
          ]
        }
      ]
    },
    {
      "cell_type": "code",
      "metadata": {
        "colab": {
          "base_uri": "https://localhost:8080/"
        },
        "id": "rUI8JMew86D_",
        "outputId": "48afc924-3fee-4ac7-ed2e-40f7f6b1f897"
      },
      "source": [
        "x=\"Alliyah Francine J. Roxas\"\n",
        "y=\"Blk 22 Lot 15 Ostrich Street Southcrest Village, San Agustin 2, Dasmariñas Cavite\"\n",
        "z=\"18\"\n",
        "\n",
        "print(\"My name is \"+x)\n",
        "print(\"I live in \"+y)\n",
        "print(\"I am \"+z+\" years of age\")"
      ],
      "execution_count": 19,
      "outputs": [
        {
          "output_type": "stream",
          "name": "stdout",
          "text": [
            "My name is Alliyah Francine J. Roxas\n",
            "I live in Blk 22 Lot 15 Ostrich Street Southcrest Village, San Agustin 2, Dasmariñas Cavite\n",
            "I am 18 years of age\n"
          ]
        }
      ]
    }
  ]
}