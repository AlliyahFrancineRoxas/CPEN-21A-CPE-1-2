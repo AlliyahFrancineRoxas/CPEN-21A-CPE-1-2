{
  "nbformat": 4,
  "nbformat_minor": 0,
  "metadata": {
    "colab": {
      "name": "Midterm Exam.ipynb",
      "provenance": [],
      "authorship_tag": "ABX9TyPaBl4YfLBImPQc3yLlOi2l",
      "include_colab_link": true
    },
    "kernelspec": {
      "name": "python3",
      "display_name": "Python 3"
    },
    "language_info": {
      "name": "python"
    }
  },
  "cells": [
    {
      "cell_type": "markdown",
      "metadata": {
        "id": "view-in-github",
        "colab_type": "text"
      },
      "source": [
        "<a href=\"https://colab.research.google.com/github/AlliyahFrancineRoxas/CPEN-21A-CPE-1-2/blob/main/Midterm_Exam.ipynb\" target=\"_parent\"><img src=\"https://colab.research.google.com/assets/colab-badge.svg\" alt=\"Open In Colab\"/></a>"
      ]
    },
    {
      "cell_type": "markdown",
      "metadata": {
        "id": "Kkwbjfv0DSMC"
      },
      "source": [
        "###PROBLEM STATEMENT 1"
      ]
    },
    {
      "cell_type": "code",
      "metadata": {
        "colab": {
          "base_uri": "https://localhost:8080/"
        },
        "id": "AfWzvWGRDapL",
        "outputId": "e05cdc04-2fb2-4597-8bcf-be56735dfda4"
      },
      "source": [
        "a=\"Alliyah Francine J. Roxas\" #Fullname\n",
        "b=\"202102290\"                 #Student Number\n",
        "c=\"18 years of age\"           #Age\n",
        "d=\"March 5,2003\"              #Birthday\n",
        "e=\"Blk 22 Lot 15 Ostrich Street, San Agustin 2, Dasmariñas Cavite\" #Address\n",
        "f=\"Bachelor of Science in Computer Engineering\" #Course\n",
        "g=\"96\" #Last Sem Gwa\n",
        "\n",
        "print(a)\n",
        "print(b)\n",
        "print(c)\n",
        "print(d)\n",
        "print(e)\n",
        "print(f)\n",
        "print(g)"
      ],
      "execution_count": 53,
      "outputs": [
        {
          "output_type": "stream",
          "name": "stdout",
          "text": [
            "Alliyah Francine J. Roxas\n",
            "202102290\n",
            "18 years of age\n",
            "March 5,2003\n",
            "Blk 22 Lot 15 Ostrich Street, San Agustin 2, Dasmariñas Cavite\n",
            "Bachelor of Science in Computer Engineering\n",
            "96\n"
          ]
        }
      ]
    },
    {
      "cell_type": "markdown",
      "metadata": {
        "id": "137VSmRWDh6R"
      },
      "source": [
        "###PROBLEM STATEMENT 2"
      ]
    },
    {
      "cell_type": "code",
      "metadata": {
        "colab": {
          "base_uri": "https://localhost:8080/"
        },
        "id": "3F4QP6QJDlHi",
        "outputId": "15713150-177c-420d-d922-202839deb323"
      },
      "source": [
        "n = 4\n",
        "answ = \"Y\"\n",
        "\n",
        "print(2<n and n<6)\n",
        "print(2<n or n==6)\n",
        "print(not(2<n or n==6))\n",
        "print(not(n<6))\n",
        "print((answ==\"Y\") or (answ==\"y\"))\n",
        "print((answ==\"Y\") and (answ==\"y\"))\n",
        "print(not answ==\"y\")\n",
        "print((2<n and n==5+1) or (answ==\"No\"))\n",
        "print((n==2) and (n==7) or (answ==\"Y\"))\n",
        "print((n==2) and (n==7 or answ==\"Y\"))"
      ],
      "execution_count": 54,
      "outputs": [
        {
          "output_type": "stream",
          "name": "stdout",
          "text": [
            "True\n",
            "True\n",
            "False\n",
            "False\n",
            "True\n",
            "False\n",
            "True\n",
            "False\n",
            "True\n",
            "False\n"
          ]
        }
      ]
    },
    {
      "cell_type": "markdown",
      "metadata": {
        "id": "tJgPb1BkDv6R"
      },
      "source": [
        "\n",
        "###PROBLEM STATEMENT 3"
      ]
    },
    {
      "cell_type": "code",
      "metadata": {
        "colab": {
          "base_uri": "https://localhost:8080/"
        },
        "id": "tPy530T6DzFs",
        "outputId": "667d8ba1-e975-438c-c04e-b878ee28c653"
      },
      "source": [
        "x=2\n",
        "y=-3\n",
        "w=7\n",
        "z= -10\n",
        "\n",
        "print(x/y) \n",
        "print(w/y/x)\n",
        "print(z/y%x)\n",
        "print(x%-y*w)\n",
        "print(x%y)\n",
        "print(z%w-y/x*5+5)\n",
        "print(9-x%(2+y))\n",
        "print(z//w)\n",
        "print((2+y)**2)\n",
        "print(w/x*2)"
      ],
      "execution_count": 55,
      "outputs": [
        {
          "output_type": "stream",
          "name": "stdout",
          "text": [
            "-0.6666666666666666\n",
            "-1.1666666666666667\n",
            "1.3333333333333335\n",
            "14\n",
            "-1\n",
            "16.5\n",
            "9\n",
            "-2\n",
            "1\n",
            "7.0\n"
          ]
        }
      ]
    }
  ]
}