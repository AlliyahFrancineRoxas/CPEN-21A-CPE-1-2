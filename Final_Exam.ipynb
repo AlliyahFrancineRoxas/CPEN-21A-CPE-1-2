{
  "nbformat": 4,
  "nbformat_minor": 0,
  "metadata": {
    "colab": {
      "name": "Final Exam.ipynb",
      "provenance": [],
      "authorship_tag": "ABX9TyOawvUciXonOBFLGnCjY/AU",
      "include_colab_link": true
    },
    "kernelspec": {
      "name": "python3",
      "display_name": "Python 3"
    },
    "language_info": {
      "name": "python"
    }
  },
  "cells": [
    {
      "cell_type": "markdown",
      "metadata": {
        "id": "view-in-github",
        "colab_type": "text"
      },
      "source": [
        "<a href=\"https://colab.research.google.com/github/AlliyahFrancineRoxas/CPEN-21A-CPE-1-2/blob/main/Final_Exam.ipynb\" target=\"_parent\"><img src=\"https://colab.research.google.com/assets/colab-badge.svg\" alt=\"Open In Colab\"/></a>"
      ]
    },
    {
      "cell_type": "markdown",
      "source": [
        "PROBLEM STATEMENT 1: Create a Python program that will produce an output of sum of 10 numbers less than 5\n",
        "using FOR LOOP statement. (30 points)\n",
        "\n",
        "\n"
      ],
      "metadata": {
        "id": "LVYuQZOquCfK"
      }
    },
    {
      "cell_type": "code",
      "source": [
        "num = [ 4, 3, 2, 1, 0, -1, -2, -3, -4, -5 ]\n",
        "for x in num:\n",
        "  sum = x + 0\n",
        "print(sum)"
      ],
      "metadata": {
        "colab": {
          "base_uri": "https://localhost:8080/"
        },
        "id": "VuzcW_iJnKr5",
        "outputId": "73eba1ee-d682-4222-9709-19441fe0d265"
      },
      "execution_count": 136,
      "outputs": [
        {
          "output_type": "stream",
          "name": "stdout",
          "text": [
            "-5\n"
          ]
        }
      ]
    },
    {
      "cell_type": "markdown",
      "source": [
        "PROBLEM STATEMENT 2:Create a Python program that will produce accept five numbers and determine the sum of\n",
        "first and last number among the five numbers entered using WHILE LOOP (35 points)"
      ],
      "metadata": {
        "id": "NfgFyAYAnUFq"
      }
    },
    {
      "cell_type": "code",
      "source": [
        "list=[]\n",
        "while len(list)<5:\n",
        "  n=int(input(\"Number:\"))\n",
        "  list.append(n)\n",
        "print(list)\n",
        "\n",
        "sum=list[0]+list[-1]\n",
        "print(sum)"
      ],
      "metadata": {
        "colab": {
          "base_uri": "https://localhost:8080/"
        },
        "id": "z5lxJqTFnUKy",
        "outputId": "45523127-f44d-45d4-ebb5-592b6437a271"
      },
      "execution_count": 83,
      "outputs": [
        {
          "output_type": "stream",
          "name": "stdout",
          "text": [
            "Number:1\n",
            "Number:6\n",
            "Number:3\n",
            "Number:8\n",
            "Number:2\n",
            "[1, 6, 3, 8, 2]\n",
            "3\n"
          ]
        }
      ]
    },
    {
      "cell_type": "markdown",
      "source": [
        "PROBLEM STATEMENT 3:Create a Python program to calculate student grades. It accepts a numerical grade as input\n",
        "and it will display the character grade as output based on the given scale: (Use Nested-IF-Else\n",
        "statement) (35 points)"
      ],
      "metadata": {
        "id": "a4yZb_-Vy3Hj"
      }
    },
    {
      "cell_type": "code",
      "source": [
        "range=[\"90 and above\",\"80-89\",\"70-79\",\"60-69\",\"Below 60\"]\n",
        "grade=[\"A\",\"B\",\"C\",\"D\",\"F\"]\n",
        "\n",
        "grade=int(input(\"Enter your grade \"))\n",
        "\n",
        "if grade>=90:\n",
        "  print(\"A\")\n",
        "elif grade>=80:\n",
        "  print(\"B\")\n",
        "elif grade>=70:\n",
        "  print(\"C\")\n",
        "elif grade>=60:\n",
        "  print(\"D\")\n",
        "else:\n",
        "  print(\"F\")"
      ],
      "metadata": {
        "colab": {
          "base_uri": "https://localhost:8080/"
        },
        "id": "pZ40tevt-7GF",
        "outputId": "91b9d14e-f17f-49d5-ee01-be660f099bcb"
      },
      "execution_count": 137,
      "outputs": [
        {
          "output_type": "stream",
          "name": "stdout",
          "text": [
            "Enter your grade 97\n",
            "A\n"
          ]
        }
      ]
    }
  ]
}